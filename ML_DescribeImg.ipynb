{
  "nbformat": 4,
  "nbformat_minor": 0,
  "metadata": {
    "colab": {
      "provenance": [],
      "gpuType": "T4",
      "authorship_tag": "ABX9TyMigg22SNgjl2Q1SH6QzgMg",
      "include_colab_link": true
    },
    "kernelspec": {
      "name": "python3",
      "display_name": "Python 3"
    },
    "language_info": {
      "name": "python"
    },
    "accelerator": "GPU"
  },
  "cells": [
    {
      "cell_type": "markdown",
      "metadata": {
        "id": "view-in-github",
        "colab_type": "text"
      },
      "source": [
        "<a href=\"https://colab.research.google.com/github/thiagohrcosta/ML-DescribeImg/blob/main/ML_DescribeImg.ipynb\" target=\"_parent\"><img src=\"https://colab.research.google.com/assets/colab-badge.svg\" alt=\"Open In Colab\"/></a>"
      ]
    },
    {
      "cell_type": "code",
      "execution_count": 1,
      "metadata": {
        "id": "8jh8w866pnMO"
      },
      "outputs": [],
      "source": [
        "import numpy as np\n",
        "import matplotlib.pyplot as plt\n",
        "from keras.datasets import fashion_mnist\n",
        "from keras.applications.vgg16 import VGG16\n",
        "from keras.models import Sequential\n",
        "from keras.layers import Dense, Flatten, Conv2D, MaxPooling2D, InputLayer\n",
        "from keras.utils import to_categorical\n",
        "from keras.optimizers import Adam\n",
        "from tensorflow.image import resize\n"
      ]
    },
    {
      "cell_type": "code",
      "source": [
        "# Loading data\n",
        "(train_images, train_labels), (test_images, test_labels) = fashion_mnist.load_data()"
      ],
      "metadata": {
        "colab": {
          "base_uri": "https://localhost:8080/"
        },
        "id": "BrrLe834rPj-",
        "outputId": "a7f57a71-9123-409f-c66e-85fa304fa3ea"
      },
      "execution_count": 2,
      "outputs": [
        {
          "output_type": "stream",
          "name": "stdout",
          "text": [
            "Downloading data from https://storage.googleapis.com/tensorflow/tf-keras-datasets/train-labels-idx1-ubyte.gz\n",
            "29515/29515 [==============================] - 0s 0us/step\n",
            "Downloading data from https://storage.googleapis.com/tensorflow/tf-keras-datasets/train-images-idx3-ubyte.gz\n",
            "26421880/26421880 [==============================] - 2s 0us/step\n",
            "Downloading data from https://storage.googleapis.com/tensorflow/tf-keras-datasets/t10k-labels-idx1-ubyte.gz\n",
            "5148/5148 [==============================] - 0s 0us/step\n",
            "Downloading data from https://storage.googleapis.com/tensorflow/tf-keras-datasets/t10k-images-idx3-ubyte.gz\n",
            "4422102/4422102 [==============================] - 1s 0us/step\n"
          ]
        }
      ]
    },
    {
      "cell_type": "code",
      "source": [
        "# Data to 0 and 1\n",
        "train_images = train_images / 255.0\n",
        "test_images = test_images / 255.0"
      ],
      "metadata": {
        "id": "U4KHp7kitsTc"
      },
      "execution_count": 3,
      "outputs": []
    },
    {
      "cell_type": "code",
      "source": [
        "# One-hot format\n",
        "train_labels = to_categorical(train_labels, 10)\n",
        "test_labels = to_categorical(test_labels, 10)\n"
      ],
      "metadata": {
        "id": "i-8deK1MrZss"
      },
      "execution_count": 4,
      "outputs": []
    },
    {
      "cell_type": "code",
      "source": [
        "# Preparing data\n",
        "train_images_vgg = np.expand_dims(train_images, axis=-1)\n",
        "train_images_vgg = np.repeat(train_images_vgg, 3, axis=-1)\n",
        "train_images_vgg = resize(train_images_vgg, [32, 32])\n",
        "\n",
        "test_images_vgg = np.expand_dims(test_images, axis=-1)\n",
        "test_images_vgg = np.repeat(test_images_vgg, 3, axis=-1)\n",
        "test_images_vgg = resize(test_images_vgg, [32, 32])"
      ],
      "metadata": {
        "id": "LC7Dk7V8rg3J"
      },
      "execution_count": 5,
      "outputs": []
    },
    {
      "cell_type": "code",
      "source": [
        "train_images_custom = np.expand_dims(train_images, axis=-1)\n",
        "test_images_custom = np.expand_dims(test_images, axis=-1)"
      ],
      "metadata": {
        "id": "ADkurug9rj7y"
      },
      "execution_count": 6,
      "outputs": []
    },
    {
      "cell_type": "code",
      "source": [
        "# Loading data with weights\n",
        "vgg16 = VGG16(weights=None, include_top=False, input_shape=(32, 32, 3))"
      ],
      "metadata": {
        "id": "5s3OE4u_sDe9"
      },
      "execution_count": 7,
      "outputs": []
    },
    {
      "cell_type": "code",
      "source": [
        "model_vgg16 = Sequential()\n",
        "model_vgg16.add(vgg16)\n",
        "model_vgg16.add(Flatten())\n",
        "model_vgg16.add(Dense(256, activation='relu'))\n",
        "model_vgg16.add(Dense(10, activation='softmax'))"
      ],
      "metadata": {
        "id": "PmGiDO-3sUXM"
      },
      "execution_count": 8,
      "outputs": []
    },
    {
      "cell_type": "code",
      "source": [
        "# Model compilation\n",
        "model_vgg16.compile(optimizer=Adam(), loss='categorical_crossentropy', metrics=['accuracy'])\n"
      ],
      "metadata": {
        "id": "ai3KVOx6sau6"
      },
      "execution_count": 9,
      "outputs": []
    },
    {
      "cell_type": "code",
      "source": [
        "# Model training\n",
        "history_vgg16 = model_vgg16.fit(train_images_vgg, train_labels, epochs=10, batch_size=32, validation_data=(test_images_vgg, test_labels))\n",
        "print(history_vgg16)"
      ],
      "metadata": {
        "colab": {
          "base_uri": "https://localhost:8080/"
        },
        "id": "BKIVWF8Jspkz",
        "outputId": "99a104ed-aa88-4834-fb39-75515c33bb41"
      },
      "execution_count": 10,
      "outputs": [
        {
          "output_type": "stream",
          "name": "stdout",
          "text": [
            "Epoch 1/10\n",
            "1875/1875 [==============================] - 67s 31ms/step - loss: 2.3029 - accuracy: 0.0987 - val_loss: 2.3027 - val_accuracy: 0.1000\n",
            "Epoch 2/10\n",
            "1875/1875 [==============================] - 55s 30ms/step - loss: 2.3028 - accuracy: 0.0988 - val_loss: 2.3026 - val_accuracy: 0.1000\n",
            "Epoch 3/10\n",
            "1875/1875 [==============================] - 55s 29ms/step - loss: 2.3028 - accuracy: 0.0999 - val_loss: 2.3026 - val_accuracy: 0.1000\n",
            "Epoch 4/10\n",
            "1875/1875 [==============================] - 55s 29ms/step - loss: 2.3027 - accuracy: 0.0988 - val_loss: 2.3027 - val_accuracy: 0.1000\n",
            "Epoch 5/10\n",
            "1875/1875 [==============================] - 55s 29ms/step - loss: 2.3028 - accuracy: 0.0991 - val_loss: 2.3026 - val_accuracy: 0.1000\n",
            "Epoch 6/10\n",
            "1875/1875 [==============================] - 55s 29ms/step - loss: 2.3028 - accuracy: 0.1001 - val_loss: 2.3027 - val_accuracy: 0.1000\n",
            "Epoch 7/10\n",
            "1875/1875 [==============================] - 55s 29ms/step - loss: 2.3028 - accuracy: 0.0959 - val_loss: 2.3026 - val_accuracy: 0.1000\n",
            "Epoch 8/10\n",
            "1875/1875 [==============================] - 55s 29ms/step - loss: 2.3027 - accuracy: 0.0984 - val_loss: 2.3027 - val_accuracy: 0.1000\n",
            "Epoch 9/10\n",
            "1875/1875 [==============================] - 55s 29ms/step - loss: 2.3028 - accuracy: 0.0989 - val_loss: 2.3027 - val_accuracy: 0.1000\n",
            "Epoch 10/10\n",
            "1875/1875 [==============================] - 55s 29ms/step - loss: 2.3028 - accuracy: 0.0984 - val_loss: 2.3026 - val_accuracy: 0.1000\n",
            "<keras.src.callbacks.History object at 0x79bbf62b6740>\n"
          ]
        }
      ]
    },
    {
      "cell_type": "code",
      "source": [
        "# Network archtecture\n",
        "model_custom = Sequential([\n",
        "    InputLayer(input_shape=(28, 28, 1)),\n",
        "    Flatten(),\n",
        "    Dense(784, activation='relu'),\n",
        "    Dense(1024, activation='relu'),\n",
        "    Dense(2048, activation='relu'),\n",
        "    Dense(2048, activation='relu'),\n",
        "    Dense(10, activation='softmax')\n",
        "])\n"
      ],
      "metadata": {
        "id": "LsKM5BO5srna"
      },
      "execution_count": 11,
      "outputs": []
    },
    {
      "cell_type": "code",
      "source": [
        "# Model compilation\n",
        "model_custom.compile(optimizer=Adam(), loss='categorical_crossentropy', metrics=['accuracy'])\n"
      ],
      "metadata": {
        "id": "fcmQWH5Tsy8j"
      },
      "execution_count": 12,
      "outputs": []
    },
    {
      "cell_type": "code",
      "source": [
        "# Model training\n",
        "history_custom = model_custom.fit(train_images_custom, train_labels, epochs=10, batch_size=128, validation_data=(test_images_custom, test_labels))\n"
      ],
      "metadata": {
        "colab": {
          "base_uri": "https://localhost:8080/"
        },
        "id": "ucDwUDugs8HL",
        "outputId": "88d9ba19-a1a9-4295-e23d-bbfd65ef48ab"
      },
      "execution_count": 54,
      "outputs": [
        {
          "output_type": "stream",
          "name": "stdout",
          "text": [
            "Epoch 1/10\n",
            "469/469 [==============================] - 4s 8ms/step - loss: 0.1553 - accuracy: 0.9402 - val_loss: 0.4070 - val_accuracy: 0.8932\n",
            "Epoch 2/10\n",
            "469/469 [==============================] - 3s 7ms/step - loss: 0.1341 - accuracy: 0.9477 - val_loss: 0.4526 - val_accuracy: 0.8926\n",
            "Epoch 3/10\n",
            "469/469 [==============================] - 3s 6ms/step - loss: 0.1295 - accuracy: 0.9485 - val_loss: 0.4776 - val_accuracy: 0.8926\n",
            "Epoch 4/10\n",
            "469/469 [==============================] - 3s 6ms/step - loss: 0.1308 - accuracy: 0.9493 - val_loss: 0.4620 - val_accuracy: 0.8870\n",
            "Epoch 5/10\n",
            "469/469 [==============================] - 3s 6ms/step - loss: 0.1292 - accuracy: 0.9499 - val_loss: 0.4765 - val_accuracy: 0.8865\n",
            "Epoch 6/10\n",
            "469/469 [==============================] - 3s 6ms/step - loss: 0.1256 - accuracy: 0.9507 - val_loss: 0.4512 - val_accuracy: 0.8940\n",
            "Epoch 7/10\n",
            "469/469 [==============================] - 3s 7ms/step - loss: 0.1327 - accuracy: 0.9517 - val_loss: 0.4756 - val_accuracy: 0.8861\n",
            "Epoch 8/10\n",
            "469/469 [==============================] - 3s 6ms/step - loss: 0.1208 - accuracy: 0.9528 - val_loss: 0.4893 - val_accuracy: 0.8924\n",
            "Epoch 9/10\n",
            "469/469 [==============================] - 3s 6ms/step - loss: 0.1117 - accuracy: 0.9567 - val_loss: 0.4929 - val_accuracy: 0.8931\n",
            "Epoch 10/10\n",
            "469/469 [==============================] - 3s 6ms/step - loss: 0.1181 - accuracy: 0.9546 - val_loss: 0.4817 - val_accuracy: 0.8927\n"
          ]
        }
      ]
    },
    {
      "cell_type": "code",
      "source": [
        "# Model VGG-16\n",
        "loss_vgg16, accuracy_vgg16 = model_vgg16.evaluate(test_images_vgg, test_labels, verbose=0)\n",
        "print(f\"VGG-16 - Loss: {loss_vgg16}, Accuracy: {accuracy_vgg16}\")"
      ],
      "metadata": {
        "colab": {
          "base_uri": "https://localhost:8080/"
        },
        "id": "71wfwEkTtQVb",
        "outputId": "979f0b36-2601-413b-fd23-c3c171ff70a4"
      },
      "execution_count": 14,
      "outputs": [
        {
          "output_type": "stream",
          "name": "stdout",
          "text": [
            "VGG-16 - Loss: 2.3026068210601807, Accuracy: 0.10000000149011612\n"
          ]
        }
      ]
    },
    {
      "cell_type": "code",
      "source": [
        "# Custom Model\n",
        "loss_custom, accuracy_custom = model_custom.evaluate(test_images_custom, test_labels, verbose=0)\n",
        "print(f\"Custom Model - Loss: {loss_custom}, Accuracy: {accuracy_custom}\")"
      ],
      "metadata": {
        "colab": {
          "base_uri": "https://localhost:8080/"
        },
        "id": "-alCHG4ttT0Z",
        "outputId": "342f02ce-a859-4f53-9b4f-ec6a4662ae34"
      },
      "execution_count": 15,
      "outputs": [
        {
          "output_type": "stream",
          "name": "stdout",
          "text": [
            "Custom Model - Loss: 0.34056222438812256, Accuracy: 0.879800021648407\n"
          ]
        }
      ]
    },
    {
      "cell_type": "code",
      "source": [
        "plt.figure(figsize=(12, 4))\n"
      ],
      "metadata": {
        "colab": {
          "base_uri": "https://localhost:8080/",
          "height": 52
        },
        "id": "yX9C08vKyGDK",
        "outputId": "b38d195b-4a03-4dfb-ecc0-ddee02673614"
      },
      "execution_count": 16,
      "outputs": [
        {
          "output_type": "execute_result",
          "data": {
            "text/plain": [
              "<Figure size 1200x400 with 0 Axes>"
            ]
          },
          "metadata": {},
          "execution_count": 16
        },
        {
          "output_type": "display_data",
          "data": {
            "text/plain": [
              "<Figure size 1200x400 with 0 Axes>"
            ]
          },
          "metadata": {}
        }
      ]
    },
    {
      "cell_type": "code",
      "source": [
        "plt.subplot(1, 2, 1)\n",
        "plt.plot(history_vgg16.history['loss'], label='VGG-16 Loss')\n",
        "plt.plot(history_custom.history['loss'], label='Custom Model Loss')\n",
        "plt.title('Loss')\n",
        "plt.xlabel('Epochs')\n",
        "plt.ylabel('Loss')\n",
        "plt.legend()\n",
        "\n",
        "plt.subplot(1, 2, 2)\n",
        "plt.plot(history_vgg16.history['accuracy'], label='VGG-16 Accuracy')\n",
        "plt.plot(history_custom.history['accuracy'], label='Custom Model Accuracy')\n",
        "plt.title('Accuracy')\n",
        "plt.xlabel('Epochs')\n",
        "plt.ylabel('Accuracy')\n",
        "plt.legend()\n",
        "\n",
        "plt.show()"
      ],
      "metadata": {
        "colab": {
          "base_uri": "https://localhost:8080/",
          "height": 472
        },
        "id": "WOsSx8NhyId5",
        "outputId": "53af49b9-997e-4a31-a480-8c9f2390c7be"
      },
      "execution_count": 17,
      "outputs": [
        {
          "output_type": "display_data",
          "data": {
            "text/plain": [
              "<Figure size 640x480 with 2 Axes>"
            ],
            "image/png": "[encoded data removed]"
          },
          "metadata": {}
        }
      ]
    },
    {
      "cell_type": "code",
      "source": [
        "# Model Predictions VGG-16\n",
        "predictions_vgg16 = model_vgg16.predict(test_images_vgg)\n",
        "predicted_classes_vgg16 = np.argmax(predictions_vgg16, axis=1)\n",
        "\n",
        "# Custom Model Predictions\n",
        "predictions_custom = model_custom.predict(test_images_custom)\n",
        "predicted_classes_custom = np.argmax(predictions_custom, axis=1)\n",
        "\n",
        "# True labels\n",
        "true_classes = np.argmax(test_labels, axis=1)"
      ],
      "metadata": {
        "colab": {
          "base_uri": "https://localhost:8080/"
        },
        "id": "A8-ZpwulyLBY",
        "outputId": "8d13a739-b304-4ff6-de19-fbd7fdad2f19"
      },
      "execution_count": 18,
      "outputs": [
        {
          "output_type": "stream",
          "name": "stdout",
          "text": [
            "313/313 [==============================] - 3s 9ms/step\n",
            "313/313 [==============================] - 1s 3ms/step\n"
          ]
        }
      ]
    },
    {
      "cell_type": "code",
      "source": [
        "# Classes\n",
        "class_names = [\"T-shirt/top\", \"Trouser\", \"Pullover\", \"Dress\", \"Coat\",\n",
        "               \"Sandal\", \"Shirt\", \"Sneaker\", \"Bag\", \"Ankle boot\"]\n",
        "\n",
        "# Plot Images\n",
        "def plot_images(images, true_labels, predicted_labels_vgg, predicted_labels_custom, class_names, num_images=10):\n",
        "    plt.figure(figsize=(20, 10))\n",
        "    for i in range(num_images):\n",
        "        plt.subplot(2, num_images, i + 1)\n",
        "        plt.imshow(images[i].reshape(28, 28), cmap='gray')\n",
        "        plt.title(f\"True: {class_names[true_labels[i]]}\\nVGG16: {class_names[predicted_labels_vgg[i]]}\\nCustom: {class_names[predicted_labels_custom[i]]}\")\n",
        "        plt.axis('off')\n",
        "\n",
        "    plt.show()\n",
        "\n",
        "# Plot Images\n",
        "plot_images(test_images, true_classes, predicted_classes_vgg16, predicted_classes_custom, class_names)"
      ],
      "metadata": {
        "colab": {
          "base_uri": "https://localhost:8080/",
          "height": 167
        },
        "id": "KNvA2I7Kybo7",
        "outputId": "7db6c975-d7ad-447c-cfdd-be242fc3853e"
      },
      "execution_count": 19,
      "outputs": [
        {
          "output_type": "display_data",
          "data": {
            "text/plain": [
              "<Figure size 2000x1000 with 10 Axes>"
            ],
            "image/png": "[encoded data removed]"
          },
          "metadata": {}
        }
      ]
    },
    {
      "cell_type": "code",
      "source": [
        "train_images[4000]"
      ],
      "metadata": {
        "colab": {
          "base_uri": "https://localhost:8080/"
        },
        "id": "Jb6ouVNR0Uft",
        "outputId": "854839b5-aec6-43f6-d95e-16dccd9b2308"
      },
      "execution_count": 43,
      "outputs": [
        {
          "output_type": "execute_result",
          "data": {
            "text/plain": [
              "array([[0.        , 0.        , 0.        , 0.        , 0.        ,\n",
              "        0.        , 0.        , 0.        , 0.        , 0.        ,\n",
              "        0.        , 0.        , 0.23921569, 0.59215686, 0.64313725,\n",
              "        0.63137255, 0.39607843, 0.        , 0.        , 0.        ,\n",
              "        0.        , 0.        , 0.        , 0.        , 0.        ,\n",
              "        0.        , 0.        , 0.        ],\n",
              "       [0.        , 0.        , 0.        , 0.        , 0.        ,\n",
              "        0.        , 0.        , 0.        , 0.00392157, 0.        ,\n",
              "        0.        , 0.58823529, 0.94509804, 0.37647059, 0.08235294,\n",
              "        0.18823529, 0.78431373, 0.80784314, 0.        , 0.        ,\n",
              "        0.01176471, 0.        , 0.        , 0.        , 0.        ,\n",
              "        0.        , 0.        , 0.        ],\n",
              "       [0.        , 0.        , 0.        , 0.        , 0.        ,\n",
              "        0.        , 0.        , 0.00392157, 0.        , 0.        ,\n",
              "        0.51764706, 0.83529412, 0.        , 0.        , 0.        ,\n",
              "        0.        , 0.        , 0.6627451 , 0.59215686, 0.        ,\n",
              "        0.        , 0.00392157, 0.        , 0.        , 0.        ,\n",
              "        0.        , 0.        , 0.        ],\n",
              "       [0.        , 0.        , 0.        , 0.        , 0.        ,\n",
              "        0.00392157, 0.        , 0.        , 0.        , 0.21176471,\n",
              "        0.74901961, 0.        , 0.        , 0.01176471, 0.        ,\n",
              "        0.00784314, 0.        , 0.        , 0.6745098 , 0.35294118,\n",
              "        0.        , 0.01568627, 0.        , 0.        , 0.        ,\n",
              "        0.        , 0.        , 0.        ],\n",
              "       [0.        , 0.        , 0.        , 0.        , 0.        ,\n",
              "        0.        , 0.00392157, 0.        , 0.        , 0.6627451 ,\n",
              "        0.43529412, 0.        , 0.        , 0.        , 0.        ,\n",
              "        0.        , 0.00784314, 0.        , 0.32156863, 0.70980392,\n",
              "        0.        , 0.        , 0.00784314, 0.        , 0.        ,\n",
              "        0.        , 0.        , 0.        ],\n",
              "       [0.        , 0.        , 0.        , 0.        , 0.        ,\n",
              "        0.        , 0.00784314, 0.        , 0.3372549 , 0.79215686,\n",
              "        0.28627451, 0.        , 0.        , 0.        , 0.        ,\n",
              "        0.        , 0.        , 0.        , 0.        , 0.69019608,\n",
              "        0.34509804, 0.        , 0.        , 0.        , 0.        ,\n",
              "        0.        , 0.        , 0.        ],\n",
              "       [0.        , 0.        , 0.        , 0.        , 0.        ,\n",
              "        0.        , 0.        , 0.        , 0.52156863, 0.74117647,\n",
              "        0.55294118, 0.        , 0.        , 0.        , 0.        ,\n",
              "        0.        , 0.        , 0.        , 0.        , 0.54509804,\n",
              "        0.6627451 , 0.        , 0.        , 0.00392157, 0.        ,\n",
              "        0.        , 0.        , 0.        ],\n",
              "       [0.        , 0.        , 0.        , 0.        , 0.        ,\n",
              "        0.        , 0.        , 0.        , 0.54117647, 0.69019608,\n",
              "        0.51764706, 0.        , 0.00392157, 0.        , 0.        ,\n",
              "        0.        , 0.00784314, 0.        , 0.1254902 , 0.65882353,\n",
              "        0.67058824, 0.10980392, 0.        , 0.01960784, 0.        ,\n",
              "        0.        , 0.        , 0.        ],\n",
              "       [0.        , 0.        , 0.00392157, 0.01960784, 0.01176471,\n",
              "        0.00392157, 0.        , 0.01176471, 0.65098039, 0.74509804,\n",
              "        0.3254902 , 0.        , 0.        , 0.00784314, 0.00784314,\n",
              "        0.00392157, 0.01568627, 0.        , 0.28627451, 0.72941176,\n",
              "        0.59607843, 0.07058824, 0.        , 0.01176471, 0.        ,\n",
              "        0.        , 0.        , 0.        ],\n",
              "       [0.        , 0.        , 0.        , 0.        , 0.        ,\n",
              "        0.        , 0.        , 0.00784314, 0.72941176, 0.70588235,\n",
              "        0.34509804, 0.        , 0.        , 0.        , 0.        ,\n",
              "        0.        , 0.        , 0.        , 0.27058824, 0.78039216,\n",
              "        0.65490196, 0.04313725, 0.        , 0.        , 0.00392157,\n",
              "        0.01176471, 0.        , 0.        ],\n",
              "       [0.        , 0.        , 0.        , 0.29411765, 0.44313725,\n",
              "        0.16078431, 0.00784314, 0.28235294, 0.93333333, 0.62745098,\n",
              "        0.30196078, 0.        , 0.        , 0.        , 0.        ,\n",
              "        0.        , 0.        , 0.        , 0.35294118, 0.76078431,\n",
              "        0.80392157, 0.01960784, 0.        , 0.        , 0.        ,\n",
              "        0.        , 0.        , 0.        ],\n",
              "       [0.        , 0.        , 0.0627451 , 0.80784314, 0.85098039,\n",
              "        0.78823529, 0.8745098 , 0.77647059, 0.78823529, 0.7372549 ,\n",
              "        0.80392157, 0.74117647, 0.78823529, 0.80392157, 0.8745098 ,\n",
              "        0.94117647, 0.90588235, 0.96470588, 0.8745098 , 0.74509804,\n",
              "        0.74509804, 0.62745098, 0.75294118, 0.72941176, 0.65882353,\n",
              "        0.12156863, 0.        , 0.        ],\n",
              "       [0.        , 0.        , 0.78823529, 0.81568627, 0.77254902,\n",
              "        0.81960784, 0.8       , 0.67843137, 0.77647059, 0.74901961,\n",
              "        0.8       , 0.90588235, 0.84313725, 0.82745098, 0.77647059,\n",
              "        0.84313725, 0.83137255, 0.80784314, 0.76078431, 0.82352941,\n",
              "        0.73333333, 0.75686275, 0.82352941, 0.81568627, 0.88627451,\n",
              "        0.62745098, 0.        , 0.        ],\n",
              "       [0.        , 0.09019608, 0.90196078, 0.73333333, 0.78039216,\n",
              "        0.78823529, 0.78039216, 0.6627451 , 0.74117647, 0.69411765,\n",
              "        0.73333333, 0.78039216, 0.80784314, 0.76862745, 0.74117647,\n",
              "        0.79607843, 0.8       , 0.81960784, 0.73333333, 0.75686275,\n",
              "        0.67843137, 0.72941176, 0.78431373, 0.74509804, 0.6745098 ,\n",
              "        0.61176471, 0.        , 0.        ],\n",
              "       [0.        , 0.        , 0.72941176, 0.78431373, 0.81176471,\n",
              "        0.80392157, 0.76078431, 0.68627451, 0.73333333, 0.6627451 ,\n",
              "        0.77254902, 0.80784314, 0.79607843, 0.70588235, 0.7372549 ,\n",
              "        0.79215686, 0.79607843, 0.79215686, 0.6627451 , 0.7254902 ,\n",
              "        0.65098039, 0.71764706, 0.75686275, 0.79607843, 0.6       ,\n",
              "        0.82745098, 0.29019608, 0.        ],\n",
              "       [0.        , 0.14117647, 0.81176471, 0.74901961, 0.80392157,\n",
              "        0.81568627, 0.68235294, 0.61568627, 0.7372549 , 0.63921569,\n",
              "        0.76078431, 0.79607843, 0.78431373, 0.70980392, 0.76078431,\n",
              "        0.81176471, 0.79215686, 0.76862745, 0.58823529, 0.68235294,\n",
              "        0.65098039, 0.74117647, 0.80784314, 0.75686275, 0.58431373,\n",
              "        0.67058824, 0.20392157, 0.        ],\n",
              "       [0.        , 0.32941176, 0.76470588, 0.6627451 , 0.77254902,\n",
              "        0.81568627, 0.70196078, 0.57647059, 0.72941176, 0.61568627,\n",
              "        0.75686275, 0.80784314, 0.76078431, 0.72156863, 0.74117647,\n",
              "        0.81176471, 0.8       , 0.70588235, 0.50588235, 0.68627451,\n",
              "        0.68235294, 0.71764706, 0.78823529, 0.68235294, 0.56078431,\n",
              "        0.76862745, 0.25098039, 0.        ],\n",
              "       [0.        , 0.58039216, 0.80784314, 0.7254902 , 0.79607843,\n",
              "        0.79607843, 0.70588235, 0.61176471, 0.76078431, 0.63529412,\n",
              "        0.77254902, 0.81568627, 0.79607843, 0.71372549, 0.72941176,\n",
              "        0.82352941, 0.81960784, 0.6745098 , 0.48235294, 0.76470588,\n",
              "        0.6745098 , 0.65882353, 0.80392157, 0.76078431, 0.54117647,\n",
              "        0.80392157, 0.45490196, 0.        ],\n",
              "       [0.        , 0.83921569, 0.84313725, 0.70588235, 0.77647059,\n",
              "        0.8       , 0.68627451, 0.63137255, 0.74117647, 0.65098039,\n",
              "        0.76862745, 0.80784314, 0.80392157, 0.6745098 , 0.74901961,\n",
              "        0.80392157, 0.77647059, 0.69019608, 0.5372549 , 0.77647059,\n",
              "        0.64313725, 0.66666667, 0.71764706, 0.85882353, 0.69019608,\n",
              "        0.65490196, 0.58039216, 0.        ],\n",
              "       [0.        , 0.30196078, 0.90980392, 0.78823529, 0.77254902,\n",
              "        0.77254902, 0.69803922, 0.66666667, 0.73333333, 0.70980392,\n",
              "        0.80392157, 0.81960784, 0.82352941, 0.71372549, 0.76078431,\n",
              "        0.82745098, 0.78823529, 0.72941176, 0.64705882, 0.78823529,\n",
              "        0.67843137, 0.76470588, 0.7254902 , 0.71372549, 0.87843137,\n",
              "        0.68235294, 0.63921569, 0.        ],\n",
              "       [0.        , 0.31372549, 0.89803922, 0.78431373, 0.77254902,\n",
              "        0.76862745, 0.75686275, 0.70588235, 0.76078431, 0.75294118,\n",
              "        0.82745098, 0.82352941, 0.84313725, 0.74901961, 0.79607843,\n",
              "        0.81176471, 0.79215686, 0.77647059, 0.6627451 , 0.77647059,\n",
              "        0.69019608, 0.79215686, 0.72156863, 0.6627451 , 0.70588235,\n",
              "        0.80784314, 0.68627451, 0.        ],\n",
              "       [0.        , 0.43529412, 0.89411765, 0.76470588, 0.76862745,\n",
              "        0.77647059, 0.70588235, 0.71372549, 0.78431373, 0.74509804,\n",
              "        0.80784314, 0.81176471, 0.83529412, 0.75686275, 0.79215686,\n",
              "        0.80784314, 0.80392157, 0.83529412, 0.70588235, 0.72941176,\n",
              "        0.56078431, 0.77254902, 0.8       , 0.72941176, 0.67058824,\n",
              "        0.7254902 , 0.71372549, 0.        ],\n",
              "       [0.        , 0.44313725, 0.90980392, 0.77254902, 0.79215686,\n",
              "        0.78039216, 0.74901961, 0.78823529, 0.8       , 0.76862745,\n",
              "        0.81568627, 0.80784314, 0.82745098, 0.76078431, 0.79607843,\n",
              "        0.80784314, 0.80784314, 0.76470588, 0.68627451, 0.78039216,\n",
              "        0.69803922, 0.70588235, 0.75294118, 0.76862745, 0.79215686,\n",
              "        0.72156863, 0.58431373, 0.        ],\n",
              "       [0.        , 0.30196078, 0.90196078, 0.75686275, 0.73333333,\n",
              "        0.78431373, 0.77254902, 0.78039216, 0.79215686, 0.80784314,\n",
              "        0.83137255, 0.81176471, 0.83137255, 0.75294118, 0.77647059,\n",
              "        0.79215686, 0.8       , 0.78823529, 0.74901961, 0.76078431,\n",
              "        0.76862745, 0.8       , 0.81960784, 0.67843137, 0.7254902 ,\n",
              "        0.87058824, 0.36078431, 0.        ],\n",
              "       [0.        , 0.13333333, 0.82745098, 0.74117647, 0.76470588,\n",
              "        0.82352941, 0.78431373, 0.78431373, 0.80784314, 0.76862745,\n",
              "        0.82352941, 0.83529412, 0.84705882, 0.82352941, 0.83529412,\n",
              "        0.82745098, 0.83137255, 0.77254902, 0.71372549, 0.78431373,\n",
              "        0.76862745, 0.8       , 0.82352941, 0.76470588, 0.67843137,\n",
              "        0.88235294, 0.12941176, 0.        ],\n",
              "       [0.        , 0.03921569, 0.8745098 , 0.74117647, 0.78823529,\n",
              "        0.8       , 0.74901961, 0.72941176, 0.76078431, 0.71372549,\n",
              "        0.81176471, 0.76078431, 0.70588235, 0.70980392, 0.7254902 ,\n",
              "        0.69411765, 0.78431373, 0.76078431, 0.71372549, 0.77647059,\n",
              "        0.75294118, 0.79215686, 0.8       , 0.73333333, 0.74509804,\n",
              "        0.77254902, 0.        , 0.        ],\n",
              "       [0.        , 0.        , 0.69411765, 1.        , 0.8627451 ,\n",
              "        0.9254902 , 0.86666667, 0.85098039, 0.86666667, 0.80784314,\n",
              "        0.89803922, 0.8745098 , 0.85882353, 0.8       , 0.81960784,\n",
              "        0.82352941, 0.85882353, 0.80392157, 0.76470588, 0.80392157,\n",
              "        0.80784314, 0.89803922, 0.88627451, 0.90980392, 0.85882353,\n",
              "        0.20392157, 0.        , 0.        ],\n",
              "       [0.        , 0.        , 0.        , 0.21960784, 0.36862745,\n",
              "        0.47058824, 0.46666667, 0.49803922, 0.5254902 , 0.56862745,\n",
              "        0.58823529, 0.59215686, 0.61960784, 0.62352941, 0.64705882,\n",
              "        0.6627451 , 0.63137255, 0.58823529, 0.57254902, 0.53333333,\n",
              "        0.50196078, 0.54509804, 0.50588235, 0.37254902, 0.02745098,\n",
              "        0.        , 0.        , 0.        ]])"
            ]
          },
          "metadata": {},
          "execution_count": 43
        }
      ]
    },
    {
      "cell_type": "code",
      "source": [
        "img_1 = train_images[4000]\n",
        "img_1 = np.array(img_1, dtype='float')\n",
        "pixels = img_1.reshape((28, 28))\n",
        "plt.imshow(pixels, cmap='gray')\n",
        "plt.show()"
      ],
      "metadata": {
        "colab": {
          "base_uri": "https://localhost:8080/",
          "height": 430
        },
        "id": "m4nr0bmF06S_",
        "outputId": "9e44cf24-093c-4af3-a5b4-78380ab7dd68"
      },
      "execution_count": 46,
      "outputs": [
        {
          "output_type": "display_data",
          "data": {
            "text/plain": [
              "<Figure size 640x480 with 1 Axes>"
            ],
            "image/png": "[encoded data removed]"
          },
          "metadata": {}
        }
      ]
    },
    {
      "cell_type": "code",
      "source": [
        "vgg16 = VGG16(input_shape=(32, 32, 3), classes = 10, weights=None)\n",
        "vgg16.summary()"
      ],
      "metadata": {
        "colab": {
          "base_uri": "https://localhost:8080/"
        },
        "id": "4K6rnPDH1gPc",
        "outputId": "3422adca-c95b-4015-869e-f5f322f7934a"
      },
      "execution_count": 50,
      "outputs": [
        {
          "output_type": "stream",
          "name": "stdout",
          "text": [
            "Model: \"vgg16\"\n",
            "_________________________________________________________________\n",
            " Layer (type)                Output Shape              Param #   \n",
            "=================================================================\n",
            " input_3 (InputLayer)        [(None, 32, 32, 3)]       0         \n",
            "                                                                 \n",
            " block1_conv1 (Conv2D)       (None, 32, 32, 64)        1792      \n",
            "                                                                 \n",
            " block1_conv2 (Conv2D)       (None, 32, 32, 64)        36928     \n",
            "                                                                 \n",
            " block1_pool (MaxPooling2D)  (None, 16, 16, 64)        0         \n",
            "                                                                 \n",
            " block2_conv1 (Conv2D)       (None, 16, 16, 128)       73856     \n",
            "                                                                 \n",
            " block2_conv2 (Conv2D)       (None, 16, 16, 128)       147584    \n",
            "                                                                 \n",
            " block2_pool (MaxPooling2D)  (None, 8, 8, 128)         0         \n",
            "                                                                 \n",
            " block3_conv1 (Conv2D)       (None, 8, 8, 256)         295168    \n",
            "                                                                 \n",
            " block3_conv2 (Conv2D)       (None, 8, 8, 256)         590080    \n",
            "                                                                 \n",
            " block3_conv3 (Conv2D)       (None, 8, 8, 256)         590080    \n",
            "                                                                 \n",
            " block3_pool (MaxPooling2D)  (None, 4, 4, 256)         0         \n",
            "                                                                 \n",
            " block4_conv1 (Conv2D)       (None, 4, 4, 512)         1180160   \n",
            "                                                                 \n",
            " block4_conv2 (Conv2D)       (None, 4, 4, 512)         2359808   \n",
            "                                                                 \n",
            " block4_conv3 (Conv2D)       (None, 4, 4, 512)         2359808   \n",
            "                                                                 \n",
            " block4_pool (MaxPooling2D)  (None, 2, 2, 512)         0         \n",
            "                                                                 \n",
            " block5_conv1 (Conv2D)       (None, 2, 2, 512)         2359808   \n",
            "                                                                 \n",
            " block5_conv2 (Conv2D)       (None, 2, 2, 512)         2359808   \n",
            "                                                                 \n",
            " block5_conv3 (Conv2D)       (None, 2, 2, 512)         2359808   \n",
            "                                                                 \n",
            " block5_pool (MaxPooling2D)  (None, 1, 1, 512)         0         \n",
            "                                                                 \n",
            " flatten (Flatten)           (None, 512)               0         \n",
            "                                                                 \n",
            " fc1 (Dense)                 (None, 4096)              2101248   \n",
            "                                                                 \n",
            " fc2 (Dense)                 (None, 4096)              16781312  \n",
            "                                                                 \n",
            " predictions (Dense)         (None, 10)                40970     \n",
            "                                                                 \n",
            "=================================================================\n",
            "Total params: 33638218 (128.32 MB)\n",
            "Trainable params: 33638218 (128.32 MB)\n",
            "Non-trainable params: 0 (0.00 Byte)\n",
            "_________________________________________________________________\n"
          ]
        }
      ]
    },
    {
      "cell_type": "code",
      "source": [
        "img_1 = test_images[4000]\n",
        "img_1 = np.array(img_1, dtype='float')\n",
        "pixels = img_1.reshape((28, 28))\n",
        "plt.imshow(pixels, cmap='gray')\n",
        "plt.show()"
      ],
      "metadata": {
        "colab": {
          "base_uri": "https://localhost:8080/",
          "height": 430
        },
        "id": "j9tO0yZq2nfJ",
        "outputId": "963f8867-b29f-4307-86f6-b73ce1cfbab5"
      },
      "execution_count": 51,
      "outputs": [
        {
          "output_type": "display_data",
          "data": {
            "text/plain": [
              "<Figure size 640x480 with 1 Axes>"
            ],
            "image/png": "[encoded data removed]"
          },
          "metadata": {}
        }
      ]
    },
    {
      "cell_type": "code",
      "source": [],
      "metadata": {
        "id": "km7sL1Cq3mYU"
      },
      "execution_count": null,
      "outputs": []
    }
  ]
}